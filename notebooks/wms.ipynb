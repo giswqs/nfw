{
 "cells": [
  {
   "cell_type": "code",
   "execution_count": 1,
   "id": "824b989f-add9-4755-9751-e7c30af78a06",
   "metadata": {},
   "outputs": [],
   "source": [
    "import geemap\n",
    "from owslib.wms import WebMapService"
   ]
  },
  {
   "cell_type": "code",
   "execution_count": 2,
   "id": "6603828f-eada-49c1-a7ce-3882b5d24113",
   "metadata": {},
   "outputs": [],
   "source": [
    "url = 'https://hydro.nationalmap.gov/arcgis/services/wbd/MapServer/WMSServer?request=GetCapabilities&service=WMS'"
   ]
  },
  {
   "cell_type": "code",
   "execution_count": 7,
   "id": "c9700abe-bc08-4123-a0bd-06d986a6568c",
   "metadata": {},
   "outputs": [
    {
     "data": {
      "text/plain": [
       "(['0', '1', '2', '3', '4', '5', '6', '7', '8'],\n",
       " ['16-digit HU',\n",
       "  '14-digit HU',\n",
       "  '12-digit HU (Subwatershed)',\n",
       "  '10-digit HU (Watershed)',\n",
       "  '8-digit HU  (Subbasin)',\n",
       "  '6-digit HU (Basin)',\n",
       "  '4-digit HU (Subregion)',\n",
       "  '2-digit HU (Region)',\n",
       "  'WBDLine'])"
      ]
     },
     "execution_count": 7,
     "metadata": {},
     "output_type": "execute_result"
    }
   ],
   "source": [
    "geemap.get_wms_layers(url, return_titles=True)"
   ]
  },
  {
   "cell_type": "code",
   "execution_count": 4,
   "id": "620c3dae-5ffc-4825-9c18-b1898167fbd1",
   "metadata": {},
   "outputs": [],
   "source": [
    "wms = WebMapService(url, version='1.1.1')"
   ]
  },
  {
   "cell_type": "code",
   "execution_count": 5,
   "id": "34d5dae5-9350-4956-82ed-34f52a3ba28b",
   "metadata": {},
   "outputs": [
    {
     "data": {
      "text/plain": [
       "['0', '1', '2', '3', '4', '5', '6', '7', '8']"
      ]
     },
     "execution_count": 5,
     "metadata": {},
     "output_type": "execute_result"
    }
   ],
   "source": [
    "list(wms.contents)"
   ]
  },
  {
   "cell_type": "code",
   "execution_count": 6,
   "id": "44d37a84-5d19-4bae-82f1-8f62264ab03c",
   "metadata": {},
   "outputs": [
    {
     "data": {
      "text/plain": [
       "'8-digit HU  (Subbasin)'"
      ]
     },
     "execution_count": 6,
     "metadata": {},
     "output_type": "execute_result"
    }
   ],
   "source": [
    "wms['4'].title"
   ]
  },
  {
   "cell_type": "code",
   "execution_count": null,
   "id": "0ee2bf0f-0d4e-4b54-a128-d24e8f85bfea",
   "metadata": {},
   "outputs": [],
   "source": []
  }
 ],
 "metadata": {
  "kernelspec": {
   "display_name": "Python 3",
   "language": "python",
   "name": "python3"
  },
  "language_info": {
   "codemirror_mode": {
    "name": "ipython",
    "version": 3
   },
   "file_extension": ".py",
   "mimetype": "text/x-python",
   "name": "python",
   "nbconvert_exporter": "python",
   "pygments_lexer": "ipython3",
   "version": "3.9.10"
  }
 },
 "nbformat": 4,
 "nbformat_minor": 5
}
