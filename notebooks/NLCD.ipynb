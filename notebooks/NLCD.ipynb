{
 "cells": [
  {
   "cell_type": "code",
   "execution_count": 1,
   "id": "40aa56a4-e616-43f9-9161-6ef1a9a9d7a2",
   "metadata": {},
   "outputs": [],
   "source": [
    "import ee\n",
    "import geemap\n",
    "import geemap.colormaps as cm"
   ]
  },
  {
   "cell_type": "code",
   "execution_count": 3,
   "id": "026a6510-0785-4ce6-869e-bf9ae565513a",
   "metadata": {},
   "outputs": [
    {
     "data": {
      "text/plain": [
       "['333399',\n",
       " '1b64ca',\n",
       " '0294fa',\n",
       " '00ba9d',\n",
       " '24d36d',\n",
       " '6de27c',\n",
       " 'b6f08a',\n",
       " 'ffff99',\n",
       " 'dbd085',\n",
       " 'b6a272',\n",
       " '92735e',\n",
       " '92736d',\n",
       " 'b6a29d',\n",
       " 'dbd0ce',\n",
       " 'ffffff']"
      ]
     },
     "execution_count": 3,
     "metadata": {},
     "output_type": "execute_result"
    }
   ],
   "source": [
    "cm.get_palette('terrain', 15)"
   ]
  },
  {
   "cell_type": "code",
   "execution_count": null,
   "id": "f0d5e45a-cf7b-4908-a3a6-e941eb1653c9",
   "metadata": {
    "tags": []
   },
   "outputs": [],
   "source": [
    "Map = geemap.Map()"
   ]
  },
  {
   "cell_type": "code",
   "execution_count": null,
   "id": "a012dbea-545d-4b32-bdb9-5aa0e31d9ee2",
   "metadata": {},
   "outputs": [],
   "source": [
    "Map"
   ]
  },
  {
   "cell_type": "code",
   "execution_count": null,
   "id": "33432230-85e2-4678-be1e-e79f686738da",
   "metadata": {},
   "outputs": [],
   "source": [
    "# Map.add_legend(builtin_legend='ALOS_landforms')"
   ]
  },
  {
   "cell_type": "code",
   "execution_count": null,
   "id": "b01b4b1f-f651-4f3f-892e-7ec422e12762",
   "metadata": {},
   "outputs": [],
   "source": [
    "fc= ee.FeatureCollection('users/giswqs/public/countries')\n",
    "# Map.addLayer(fc, {}, 'Countries')"
   ]
  },
  {
   "cell_type": "code",
   "execution_count": null,
   "id": "59a0b3f5-5da5-46c9-85c6-66b98d781ed4",
   "metadata": {},
   "outputs": [],
   "source": [
    "# rec = ee.Geometry.BBox(-179, -50, 179, 50)    \n",
    "# Map.addLayer(rec, {}, 'Rec')    "
   ]
  },
  {
   "cell_type": "code",
   "execution_count": null,
   "id": "7433a815-f7ca-4df0-9760-964fc8b36fd9",
   "metadata": {},
   "outputs": [],
   "source": [
    "landforms = ee.Image('CSP/ERGo/1_0/Global/ALOS_landforms').select('constant')\n",
    "landformsVis = {\n",
    "  'min': 11.0,\n",
    "  'max': 42.0,\n",
    "  'palette': [\n",
    "    '141414', '383838', '808080', 'EBEB8F', 'F7D311', 'AA0000', 'D89382',\n",
    "    'DDC9C9', 'DCCDCE', '1C6330', '68AA63', 'B5C98E', 'E1F0E5', 'a975ba',\n",
    "    '6f198c'\n",
    "  ],\n",
    "}"
   ]
  },
  {
   "cell_type": "code",
   "execution_count": null,
   "id": "252c5046-64c3-4c16-a848-01863872a693",
   "metadata": {},
   "outputs": [],
   "source": [
    "Map.addLayer(landforms, landformsVis, 'Landforms')"
   ]
  },
  {
   "cell_type": "code",
   "execution_count": null,
   "id": "57e8c16a-9fe9-4387-a244-65fc69ed0c56",
   "metadata": {},
   "outputs": [],
   "source": [
    "srtm = ee.Image(\"CGIAR/SRTM90_V4\")\n",
    "hillsahde = ee.Terrain.hillshade(srtm)"
   ]
  },
  {
   "cell_type": "code",
   "execution_count": null,
   "id": "6dadfac6-aafd-4471-9ed7-18beae5e6aef",
   "metadata": {},
   "outputs": [],
   "source": [
    "# ned = ee.Image('USGS/3DEP/10m')\n",
    "ned = ee.Image('USGS/SRTMGL1_003').select('elevation')"
   ]
  },
  {
   "cell_type": "code",
   "execution_count": null,
   "id": "07593cec-90e4-4fff-bb53-2545ea8b647a",
   "metadata": {},
   "outputs": [],
   "source": [
    "vis = {'min': 0, 'max': 6000, 'palette': cm.palettes.dem}"
   ]
  },
  {
   "cell_type": "code",
   "execution_count": null,
   "id": "a6a51b5b-968f-47ca-99fb-f28d03f4a1fb",
   "metadata": {},
   "outputs": [],
   "source": [
    "# Map.addLayer(hillsahde, {}, 'Hillshade')\n",
    "Map.addLayer(srtm, vis, 'SRTM')"
   ]
  },
  {
   "cell_type": "code",
   "execution_count": null,
   "id": "46512625-facb-48a4-b916-66b1580c71fc",
   "metadata": {},
   "outputs": [],
   "source": [
    "Map.addLayer(ned, vis, \"NED\")"
   ]
  },
  {
   "cell_type": "code",
   "execution_count": null,
   "id": "e243cc5e-ecbd-4eba-9f05-722cad734928",
   "metadata": {},
   "outputs": [],
   "source": [
    "srtm_blend = geemap.blend(top_layer=srtm, top_vis=vis)\n",
    "Map.addLayer(srtm_blend, {}, 'SRTM Blend')"
   ]
  },
  {
   "cell_type": "code",
   "execution_count": null,
   "id": "d00d4728-d720-4f08-ab4d-26e22dd06842",
   "metadata": {},
   "outputs": [],
   "source": [
    "ned_blend = geemap.blend(top_layer=ned, top_vis=vis)\n",
    "Map.addLayer(ned_blend, {}, 'NED Blend')"
   ]
  },
  {
   "cell_type": "code",
   "execution_count": null,
   "id": "ad0136ea-6182-4a31-a3c8-5121001ecf43",
   "metadata": {},
   "outputs": [],
   "source": [
    "nlcd = ee.Image(\"USGS/NLCD_RELEASES/2019_REL/NLCD/2019\").select('landcover')\n",
    "nlcd_vis = {'bands': ['landcover']}\n",
    "Map.addLayer(nlcd, nlcd_vis, 'NLCD')"
   ]
  },
  {
   "cell_type": "code",
   "execution_count": null,
   "id": "698a8b10-fb8b-438c-9329-4dd605f49364",
   "metadata": {},
   "outputs": [],
   "source": [
    "diff = srtm.subtract(ned)"
   ]
  },
  {
   "cell_type": "code",
   "execution_count": null,
   "id": "f53bd36e-aca0-4731-addb-74460b0ab4bc",
   "metadata": {},
   "outputs": [],
   "source": [
    "Map.addLayer(diff, {'min':-20, 'max': 20, 'palette': cm.palettes.coolwarm}, 'Diff')"
   ]
  },
  {
   "cell_type": "code",
   "execution_count": null,
   "id": "e255a6a0-2b8e-4924-abcb-15339713c1fc",
   "metadata": {},
   "outputs": [],
   "source": [
    "# geemap.image_mean_value(diff, scale=500).getInfo()"
   ]
  },
  {
   "cell_type": "code",
   "execution_count": null,
   "id": "93b55272-b259-4773-8840-6270edf6640c",
   "metadata": {},
   "outputs": [],
   "source": [
    "Map"
   ]
  },
  {
   "cell_type": "code",
   "execution_count": null,
   "id": "11c9723f-ac99-42f1-a22c-6289f6794c57",
   "metadata": {},
   "outputs": [],
   "source": [
    "df = geemap.image_stats_by_zone(diff, landforms, reducer='mean')\n",
    "df"
   ]
  },
  {
   "cell_type": "code",
   "execution_count": null,
   "id": "dc39a7d5-9864-43a8-9f91-3c2813a2abf1",
   "metadata": {},
   "outputs": [],
   "source": [
    "labels = [\n",
    "        \"Peak/ridge (warm)\",\n",
    "        \"Peak/ridge\",\n",
    "        \"Peak/ridge (cool)\",\n",
    "        \"Mountain/divide\",\n",
    "        \"Cliff\",\n",
    "        \"Upper slope (warm)\",\n",
    "        \"Upper slope\",\n",
    "        \"Upper slope (cool)\",\n",
    "        \"Upper slope (flat)\",\n",
    "        \"Lower slope (warm)\",\n",
    "        \"Lower slope\",\n",
    "        \"Lower slope (cool)\",\n",
    "        \"Lower slope (flat)\",\n",
    "        \"Valley\",\n",
    "        \"Valley (narrow)\",]"
   ]
  },
  {
   "cell_type": "code",
   "execution_count": null,
   "id": "68835e8b-b6c0-4d8c-ba1c-21ce6e0ee99b",
   "metadata": {},
   "outputs": [],
   "source": [
    "df['label'] = labels"
   ]
  },
  {
   "cell_type": "code",
   "execution_count": null,
   "id": "75220fd5-0b4a-4ae6-9b62-a8dcdd8bcb82",
   "metadata": {},
   "outputs": [],
   "source": [
    "df"
   ]
  },
  {
   "cell_type": "code",
   "execution_count": null,
   "id": "b51fa973-f57e-4b51-a1d0-9621b16192dd",
   "metadata": {},
   "outputs": [],
   "source": [
    "landform_fc = landforms.reduceToVectors(**{'geometry': Map.user_roi, 'scale':1000, })"
   ]
  },
  {
   "cell_type": "code",
   "execution_count": null,
   "id": "6f6212eb-bde5-496f-a384-bebb5f7b48c5",
   "metadata": {},
   "outputs": [],
   "source": [
    "# Map.addLayer(landform_fc, {}, 'Landform Vector')"
   ]
  },
  {
   "cell_type": "code",
   "execution_count": null,
   "id": "bac189e1-49dd-426c-9c7d-836a5c1a8f24",
   "metadata": {},
   "outputs": [],
   "source": [
    "result = diff.reduceRegions(**{\n",
    "    'collection': landform_fc,\n",
    "    'reducer': ee.Reducer.mean(),\n",
    "    'scale': 100\n",
    "\n",
    "})"
   ]
  },
  {
   "cell_type": "code",
   "execution_count": null,
   "id": "bd95d5d8-a88e-4349-9b0d-a82e24e4e425",
   "metadata": {},
   "outputs": [],
   "source": [
    "c22 = diff.updateMask(landforms.eq(22)).selfMask()"
   ]
  },
  {
   "cell_type": "code",
   "execution_count": null,
   "id": "9df277f0-5fb1-45de-9c44-09f9ee02ba85",
   "metadata": {},
   "outputs": [],
   "source": [
    "Map.addLayer(c22, {}, 'C22')"
   ]
  },
  {
   "cell_type": "code",
   "execution_count": null,
   "id": "9facffee-d0ec-4eb3-8522-708e38c9cfdc",
   "metadata": {},
   "outputs": [],
   "source": [
    "from geemap.datasets import DATA"
   ]
  },
  {
   "cell_type": "code",
   "execution_count": null,
   "id": "772d519c-89c0-4f08-ac39-0d043b1e96cf",
   "metadata": {},
   "outputs": [],
   "source": [
    "DATA.users_giswqs_public_us_states"
   ]
  },
  {
   "cell_type": "code",
   "execution_count": null,
   "id": "b504df65-3c24-49a4-957a-2788c3237dbe",
   "metadata": {},
   "outputs": [],
   "source": [
    "fc= ee.FeatureCollection('users/giswqs/public/countries')"
   ]
  },
  {
   "cell_type": "code",
   "execution_count": null,
   "id": "343a5389-157f-419e-9696-04f6fe570e9e",
   "metadata": {},
   "outputs": [],
   "source": [
    "# geemap.zonal_stats(c22, fc, 'stats_mean.csv', statistics_type='MEAN')"
   ]
  },
  {
   "cell_type": "code",
   "execution_count": null,
   "id": "8e23f5d6-646b-47f1-a170-239a21f0076f",
   "metadata": {},
   "outputs": [],
   "source": [
    "geom = landforms.geometry().bounds()"
   ]
  },
  {
   "cell_type": "code",
   "execution_count": null,
   "id": "b9da8a44-9c1d-4820-bf2a-646ec4f2e022",
   "metadata": {},
   "outputs": [],
   "source": [
    "# values = landforms.reduceRegions(**{\n",
    "#     'reducer': ee.Reducer.frequencyHistogram(),\n",
    "#     'collection': ee.FeatureCollection([ee.Feature(geom)]),\n",
    "#     'scale': 1000\n",
    "# })"
   ]
  },
  {
   "cell_type": "code",
   "execution_count": null,
   "id": "4428d612-4a09-4228-887d-3d3ea95f8deb",
   "metadata": {},
   "outputs": [],
   "source": [
    "# values.getInfo()"
   ]
  },
  {
   "cell_type": "code",
   "execution_count": null,
   "id": "2adc0d25-7ddb-4cae-ac6d-ecd6d4f73582",
   "metadata": {},
   "outputs": [],
   "source": [
    "values = geemap.image_value_list(landforms, region=geom, return_hist=False)"
   ]
  },
  {
   "cell_type": "code",
   "execution_count": null,
   "id": "5e7608ff-6f86-4bb2-9d75-e5007918ff10",
   "metadata": {},
   "outputs": [],
   "source": [
    "values.getInfo()"
   ]
  },
  {
   "cell_type": "code",
   "execution_count": null,
   "id": "287416ae-b546-4cbf-b25a-e8c491ba3aa2",
   "metadata": {},
   "outputs": [],
   "source": [
    "result = geemap.image_stats_by_zone(diff, landforms, reducer='mean')\n",
    "result"
   ]
  },
  {
   "cell_type": "code",
   "execution_count": null,
   "id": "358a8a05-3605-4f76-bc9d-579f4b035ae4",
   "metadata": {},
   "outputs": [],
   "source": [
    "geemap.image_stats_by_zone(diff, nlcd, reducer='maximum')"
   ]
  },
  {
   "cell_type": "code",
   "execution_count": null,
   "id": "7ed0d009-9d1a-4007-b101-c9580183b4e4",
   "metadata": {},
   "outputs": [],
   "source": [
    "result.aggregate_array('zone').getInfo()"
   ]
  },
  {
   "cell_type": "code",
   "execution_count": null,
   "id": "73310f0c-6002-4461-a8c7-5d736e0abdc0",
   "metadata": {},
   "outputs": [],
   "source": [
    "result.aggregate_array('elevation').getInfo()"
   ]
  },
  {
   "cell_type": "code",
   "execution_count": null,
   "id": "07386ff8-c307-45c9-b10b-9359d1368bcd",
   "metadata": {},
   "outputs": [],
   "source": [
    "result.toDictionary(['elevation']).getInfo()"
   ]
  },
  {
   "cell_type": "code",
   "execution_count": null,
   "id": "33683e8a-9122-410c-9b4e-725951902c9c",
   "metadata": {},
   "outputs": [],
   "source": [
    "isinstance(ee.Reducer.histogram(), ee.Reducer)"
   ]
  },
  {
   "cell_type": "code",
   "execution_count": null,
   "id": "89960eef-2fb9-42d4-9593-e4fbeace7f6b",
   "metadata": {},
   "outputs": [],
   "source": [
    "geom.getInfo()"
   ]
  },
  {
   "cell_type": "code",
   "execution_count": null,
   "id": "f3067b5b-25fd-4cde-8da0-16f6c62a6950",
   "metadata": {},
   "outputs": [],
   "source": [
    "result = c22.reduceRegion(**{\n",
    "    'reducer': ee.Reducer.mean(),\n",
    "    'scale': 1000,\n",
    "    'geometry': Map.user_roi\n",
    "\n",
    "})"
   ]
  },
  {
   "cell_type": "code",
   "execution_count": null,
   "id": "0b437f5c-39b3-46ac-b54a-1f8469834d26",
   "metadata": {},
   "outputs": [],
   "source": [
    "result.getInfo()"
   ]
  },
  {
   "cell_type": "code",
   "execution_count": null,
   "id": "2bb72b74-b915-4ab5-9e7b-a09759dda036",
   "metadata": {},
   "outputs": [],
   "source": [
    "ee.Image().set(result).set({'class': 22}).getInfo()"
   ]
  },
  {
   "cell_type": "code",
   "execution_count": null,
   "id": "265d6e87-f87c-4a01-81cd-07ede00411a4",
   "metadata": {},
   "outputs": [],
   "source": []
  }
 ],
 "metadata": {
  "kernelspec": {
   "display_name": "Python 3",
   "language": "python",
   "name": "python3"
  },
  "language_info": {
   "codemirror_mode": {
    "name": "ipython",
    "version": 3
   },
   "file_extension": ".py",
   "mimetype": "text/x-python",
   "name": "python",
   "nbconvert_exporter": "python",
   "pygments_lexer": "ipython3",
   "version": "3.9.10"
  }
 },
 "nbformat": 4,
 "nbformat_minor": 5
}
