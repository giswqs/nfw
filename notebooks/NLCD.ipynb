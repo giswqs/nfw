{
 "cells": [
  {
   "cell_type": "code",
   "execution_count": 1,
   "id": "40aa56a4-e616-43f9-9161-6ef1a9a9d7a2",
   "metadata": {},
   "outputs": [],
   "source": [
    "import ee\n",
    "import geemap\n",
    "import geemap.colormaps as cm\n"
   ]
  },
  {
   "cell_type": "code",
   "execution_count": 2,
   "id": "f0d5e45a-cf7b-4908-a3a6-e941eb1653c9",
   "metadata": {
    "tags": []
   },
   "outputs": [
    {
     "data": {
      "text/html": [
       "<p>To authorize access needed by Earth Engine, open the following\n",
       "        URL in a web browser and follow the instructions:</p>\n",
       "        <p><a href=https://code.earthengine.google.com/client-auth?scopes=https%3A//www.googleapis.com/auth/earthengine%20https%3A//www.googleapis.com/auth/devstorage.full_control&request_id=_9kV1ciuAasXljMkbAxlaV1nwffRdbO1TwK3kInU2cU&tc=xyNC88JoXk1u-n1XgU5eXMbkO6tdSVpOJ6DWPOCvo60&cc=S-hz_tc6uO771BBSfsUuffup6hsEz5Ndr4T9JU_a2zY>https://code.earthengine.google.com/client-auth?scopes=https%3A//www.googleapis.com/auth/earthengine%20https%3A//www.googleapis.com/auth/devstorage.full_control&request_id=_9kV1ciuAasXljMkbAxlaV1nwffRdbO1TwK3kInU2cU&tc=xyNC88JoXk1u-n1XgU5eXMbkO6tdSVpOJ6DWPOCvo60&cc=S-hz_tc6uO771BBSfsUuffup6hsEz5Ndr4T9JU_a2zY</a></p>\n",
       "        <p>The authorization workflow will generate a code, which you\n",
       "        should paste in the box below</p>\n",
       "        "
      ],
      "text/plain": [
       "<IPython.core.display.HTML object>"
      ]
     },
     "metadata": {},
     "output_type": "display_data"
    },
    {
     "name": "stderr",
     "output_type": "stream",
     "text": [
      "\n",
      "(google-chrome:104094): Gtk-WARNING **: 23:12:49.094: Theme parsing error: gtk.css:73:46: The style property GtkScrolledWindow:scrollbars-within-bevel is deprecated and shouldn't be used anymore. It will be removed in a future version\n"
     ]
    },
    {
     "name": "stdout",
     "output_type": "stream",
     "text": [
      "Opening in existing browser session.\n"
     ]
    },
    {
     "name": "stderr",
     "output_type": "stream",
     "text": [
      "[104148:104148:0100/000000.310321:ERROR:vaapi_wrapper.cc(1136)] vaQuerySurfaceAttributes failed, VA error: invalid parameter\n",
      "[104148:104148:0100/000000.310365:ERROR:vaapi_wrapper.cc(1083)] FillProfileInfo_Locked failed for va_profile VAProfileH264Main and entrypoint VAEntrypointVLD\n",
      "[104148:104148:0100/000000.310382:ERROR:vaapi_wrapper.cc(1136)] vaQuerySurfaceAttributes failed, VA error: invalid parameter\n",
      "[104148:104148:0100/000000.310392:ERROR:vaapi_wrapper.cc(1083)] FillProfileInfo_Locked failed for va_profile VAProfileH264High and entrypoint VAEntrypointVLD\n"
     ]
    },
    {
     "name": "stdin",
     "output_type": "stream",
     "text": [
      "Enter verification code:  4/1AX4XfWi3iWaPPJJQ2vkiZC7cvc_BT87zlYw4Cn7pkeq1SO1ofQgweqJwRx4\n"
     ]
    },
    {
     "name": "stdout",
     "output_type": "stream",
     "text": [
      "\n",
      "Successfully saved authorization token.\n"
     ]
    }
   ],
   "source": [
    "Map = geemap.Map()"
   ]
  },
  {
   "cell_type": "code",
   "execution_count": 3,
   "id": "a012dbea-545d-4b32-bdb9-5aa0e31d9ee2",
   "metadata": {},
   "outputs": [
    {
     "data": {
      "application/vnd.jupyter.widget-view+json": {
       "model_id": "73e03e3c5dab42978f1494ba56b251d4",
       "version_major": 2,
       "version_minor": 0
      },
      "text/plain": [
       "Map(center=[20, 0], controls=(WidgetControl(options=['position', 'transparent_bg'], widget=HBox(children=(Togg…"
      ]
     },
     "metadata": {},
     "output_type": "display_data"
    }
   ],
   "source": [
    "Map"
   ]
  },
  {
   "cell_type": "code",
   "execution_count": 4,
   "id": "33432230-85e2-4678-be1e-e79f686738da",
   "metadata": {},
   "outputs": [],
   "source": [
    "# Map.add_legend(builtin_legend='ALOS_landforms')"
   ]
  },
  {
   "cell_type": "code",
   "execution_count": 5,
   "id": "b01b4b1f-f651-4f3f-892e-7ec422e12762",
   "metadata": {},
   "outputs": [],
   "source": [
    "fc = ee.FeatureCollection('users/giswqs/public/countries')\n",
    "# Map.addLayer(fc, {}, 'Countries')"
   ]
  },
  {
   "cell_type": "code",
   "execution_count": 6,
   "id": "59a0b3f5-5da5-46c9-85c6-66b98d781ed4",
   "metadata": {},
   "outputs": [],
   "source": [
    "# rec = ee.Geometry.BBox(-179, -50, 179, 50)\n",
    "# Map.addLayer(rec, {}, 'Rec')"
   ]
  },
  {
   "cell_type": "code",
   "execution_count": 7,
   "id": "7433a815-f7ca-4df0-9760-964fc8b36fd9",
   "metadata": {},
   "outputs": [],
   "source": [
    "landforms = ee.Image('CSP/ERGo/1_0/Global/ALOS_landforms').select('constant')\n",
    "landformsVis = {\n",
    "    'min': 11.0,\n",
    "    'max': 42.0,\n",
    "    'palette': [\n",
    "        '141414',\n",
    "        '383838',\n",
    "        '808080',\n",
    "        'EBEB8F',\n",
    "        'F7D311',\n",
    "        'AA0000',\n",
    "        'D89382',\n",
    "        'DDC9C9',\n",
    "        'DCCDCE',\n",
    "        '1C6330',\n",
    "        '68AA63',\n",
    "        'B5C98E',\n",
    "        'E1F0E5',\n",
    "        'a975ba',\n",
    "        '6f198c',\n",
    "    ],\n",
    "}"
   ]
  },
  {
   "cell_type": "code",
   "execution_count": 8,
   "id": "252c5046-64c3-4c16-a848-01863872a693",
   "metadata": {},
   "outputs": [],
   "source": [
    "Map.addLayer(landforms, landformsVis, 'Landforms')"
   ]
  },
  {
   "cell_type": "code",
   "execution_count": 9,
   "id": "57e8c16a-9fe9-4387-a244-65fc69ed0c56",
   "metadata": {},
   "outputs": [],
   "source": [
    "srtm = ee.Image(\"CGIAR/SRTM90_V4\")\n",
    "hillsahde = ee.Terrain.hillshade(srtm)"
   ]
  },
  {
   "cell_type": "code",
   "execution_count": 10,
   "id": "6dadfac6-aafd-4471-9ed7-18beae5e6aef",
   "metadata": {},
   "outputs": [],
   "source": [
    "# ned = ee.Image('USGS/3DEP/10m')\n",
    "ned = ee.Image('USGS/SRTMGL1_003').select('elevation')"
   ]
  },
  {
   "cell_type": "code",
   "execution_count": 11,
   "id": "07593cec-90e4-4fff-bb53-2545ea8b647a",
   "metadata": {},
   "outputs": [],
   "source": [
    "vis = {'min': 0, 'max': 6000, 'palette': cm.palettes.dem}"
   ]
  },
  {
   "cell_type": "code",
   "execution_count": 12,
   "id": "a6a51b5b-968f-47ca-99fb-f28d03f4a1fb",
   "metadata": {},
   "outputs": [],
   "source": [
    "# Map.addLayer(hillsahde, {}, 'Hillshade')\n",
    "Map.addLayer(srtm, vis, 'SRTM')"
   ]
  },
  {
   "cell_type": "code",
   "execution_count": 13,
   "id": "46512625-facb-48a4-b916-66b1580c71fc",
   "metadata": {},
   "outputs": [],
   "source": [
    "Map.addLayer(ned, vis, \"NED\")"
   ]
  },
  {
   "cell_type": "code",
   "execution_count": 14,
   "id": "e243cc5e-ecbd-4eba-9f05-722cad734928",
   "metadata": {},
   "outputs": [],
   "source": [
    "srtm_blend = geemap.blend(top_layer=srtm, top_vis=vis)\n",
    "Map.addLayer(srtm_blend, {}, 'SRTM Blend')"
   ]
  },
  {
   "cell_type": "code",
   "execution_count": 15,
   "id": "d00d4728-d720-4f08-ab4d-26e22dd06842",
   "metadata": {},
   "outputs": [],
   "source": [
    "ned_blend = geemap.blend(top_layer=ned, top_vis=vis)\n",
    "Map.addLayer(ned_blend, {}, 'NED Blend')"
   ]
  },
  {
   "cell_type": "code",
   "execution_count": 16,
   "id": "ad0136ea-6182-4a31-a3c8-5121001ecf43",
   "metadata": {},
   "outputs": [],
   "source": [
    "nlcd = ee.Image(\"USGS/NLCD_RELEASES/2019_REL/NLCD/2019\").select('landcover')\n",
    "nlcd_vis = {'bands': ['landcover']}\n",
    "Map.addLayer(nlcd, nlcd_vis, 'NLCD')"
   ]
  },
  {
   "cell_type": "code",
   "execution_count": 17,
   "id": "698a8b10-fb8b-438c-9329-4dd605f49364",
   "metadata": {},
   "outputs": [],
   "source": [
    "diff = srtm.subtract(ned)"
   ]
  },
  {
   "cell_type": "code",
   "execution_count": 18,
   "id": "f53bd36e-aca0-4731-addb-74460b0ab4bc",
   "metadata": {},
   "outputs": [],
   "source": [
    "Map.addLayer(diff, {'min': -20, 'max': 20, 'palette': cm.palettes.coolwarm}, 'Diff')"
   ]
  },
  {
   "cell_type": "code",
   "execution_count": 19,
   "id": "e255a6a0-2b8e-4924-abcb-15339713c1fc",
   "metadata": {},
   "outputs": [],
   "source": [
    "# geemap.image_mean_value(diff, scale=500).getInfo()"
   ]
  },
  {
   "cell_type": "code",
   "execution_count": 20,
   "id": "93b55272-b259-4773-8840-6270edf6640c",
   "metadata": {},
   "outputs": [
    {
     "data": {
      "application/vnd.jupyter.widget-view+json": {
       "model_id": "73e03e3c5dab42978f1494ba56b251d4",
       "version_major": 2,
       "version_minor": 0
      },
      "text/plain": [
       "Map(center=[20, 0], controls=(WidgetControl(options=['position', 'transparent_bg'], widget=HBox(children=(Togg…"
      ]
     },
     "metadata": {},
     "output_type": "display_data"
    }
   ],
   "source": [
    "Map"
   ]
  },
  {
   "cell_type": "code",
   "execution_count": 21,
   "id": "50ca61b7-44c2-4b2f-8cb0-b4927456e2fc",
   "metadata": {},
   "outputs": [],
   "source": [
    "hist = diff.reduceRegion(**{\n",
    "    'reducer': ee.Reducer.histogram(maxBuckets=20),\n",
    "    'bestEffort': True}).getInfo()"
   ]
  },
  {
   "cell_type": "code",
   "execution_count": 22,
   "id": "67390b06-9853-4f44-93ad-e2ff3bea8b24",
   "metadata": {},
   "outputs": [
    {
     "data": {
      "text/plain": [
       "[-1565,\n",
       " -1457.6666666666667,\n",
       " -1334.4,\n",
       " -1206.4615384615386,\n",
       " -1075.7575757575758,\n",
       " -947.8666666666667,\n",
       " -819.8530612244898,\n",
       " -692.6904647910394,\n",
       " -568.6961611070544,\n",
       " -437.4882060344948,\n",
       " -308.06596373464555,\n",
       " -177.07148573224558,\n",
       " -18.59822132002834,\n",
       " 15.869524548306048,\n",
       " 175.7559097540676,\n",
       " 306.8047520726253,\n",
       " 437.56472404462795,\n",
       " 566.0047005845051,\n",
       " 692.2957829508376,\n",
       " 818.9032417452576,\n",
       " 944.2295081967213,\n",
       " 1060.5384615384614,\n",
       " 1190,\n",
       " 1384,\n",
       " 1472,\n",
       " 1571.3333333333333]"
      ]
     },
     "execution_count": 22,
     "metadata": {},
     "output_type": "execute_result"
    }
   ],
   "source": [
    "hist['elevation']['bucketMeans']"
   ]
  },
  {
   "cell_type": "code",
   "execution_count": 23,
   "id": "36e3721e-88b8-46c1-8c6c-052dbfff40de",
   "metadata": {},
   "outputs": [
    {
     "data": {
      "text/plain": [
       "[1,\n",
       " 3,\n",
       " 5,\n",
       " 13,\n",
       " 33,\n",
       " 90,\n",
       " 245,\n",
       " 622.5019607843137,\n",
       " 1761.5372549019608,\n",
       " 4500.141176470588,\n",
       " 13525.792156862746,\n",
       " 50807.560784313704,\n",
       " 1157331.9372549045,\n",
       " 1394831.2941176305,\n",
       " 51963.278431372564,\n",
       " 13069.054901960786,\n",
       " 4252.321568627452,\n",
       " 1469.9882352941174,\n",
       " 572.0941176470589,\n",
       " 182.5450980392157,\n",
       " 61,\n",
       " 26,\n",
       " 14,\n",
       " 2,\n",
       " 0,\n",
       " 3]"
      ]
     },
     "execution_count": 23,
     "metadata": {},
     "output_type": "execute_result"
    }
   ],
   "source": [
    "hist['elevation']['histogram']"
   ]
  },
  {
   "cell_type": "code",
   "execution_count": null,
   "id": "55640c88-3510-4b9e-bc60-58e1370df035",
   "metadata": {},
   "outputs": [],
   "source": []
  },
  {
   "cell_type": "code",
   "execution_count": null,
   "id": "7e303caf-81f4-4411-9d0b-f8387fb22c50",
   "metadata": {},
   "outputs": [],
   "source": [
    "labels = geemap.builtin_legends['ALOS_landforms'].keys()"
   ]
  },
  {
   "cell_type": "code",
   "execution_count": null,
   "id": "11c9723f-ac99-42f1-a22c-6289f6794c57",
   "metadata": {},
   "outputs": [],
   "source": [
    "df = geemap.image_stats_by_zone(diff, landforms, reducer='mean', labels=labels)\n",
    "df"
   ]
  },
  {
   "cell_type": "code",
   "execution_count": null,
   "id": "dc39a7d5-9864-43a8-9f91-3c2813a2abf1",
   "metadata": {},
   "outputs": [],
   "source": [
    "labels = [\n",
    "    \"Peak/ridge (warm)\",\n",
    "    \"Peak/ridge\",\n",
    "    \"Peak/ridge (cool)\",\n",
    "    \"Mountain/divide\",\n",
    "    \"Cliff\",\n",
    "    \"Upper slope (warm)\",\n",
    "    \"Upper slope\",\n",
    "    \"Upper slope (cool)\",\n",
    "    \"Upper slope (flat)\",\n",
    "    \"Lower slope (warm)\",\n",
    "    \"Lower slope\",\n",
    "    \"Lower slope (cool)\",\n",
    "    \"Lower slope (flat)\",\n",
    "    \"Valley\",\n",
    "    \"Valley (narrow)\",\n",
    "]"
   ]
  },
  {
   "cell_type": "code",
   "execution_count": null,
   "id": "68835e8b-b6c0-4d8c-ba1c-21ce6e0ee99b",
   "metadata": {},
   "outputs": [],
   "source": [
    "df['label'] = labels"
   ]
  },
  {
   "cell_type": "code",
   "execution_count": null,
   "id": "75220fd5-0b4a-4ae6-9b62-a8dcdd8bcb82",
   "metadata": {},
   "outputs": [],
   "source": [
    "df"
   ]
  },
  {
   "cell_type": "code",
   "execution_count": null,
   "id": "b51fa973-f57e-4b51-a1d0-9621b16192dd",
   "metadata": {},
   "outputs": [],
   "source": [
    "landform_fc = landforms.reduceToVectors(\n",
    "    **{\n",
    "        'geometry': Map.user_roi,\n",
    "        'scale': 1000,\n",
    "    }\n",
    ")"
   ]
  },
  {
   "cell_type": "code",
   "execution_count": null,
   "id": "6f6212eb-bde5-496f-a384-bebb5f7b48c5",
   "metadata": {},
   "outputs": [],
   "source": [
    "# Map.addLayer(landform_fc, {}, 'Landform Vector')"
   ]
  },
  {
   "cell_type": "code",
   "execution_count": null,
   "id": "bac189e1-49dd-426c-9c7d-836a5c1a8f24",
   "metadata": {},
   "outputs": [],
   "source": [
    "result = diff.reduceRegions(\n",
    "    **{'collection': landform_fc, 'reducer': ee.Reducer.mean(), 'scale': 100}\n",
    ")"
   ]
  },
  {
   "cell_type": "code",
   "execution_count": null,
   "id": "bd95d5d8-a88e-4349-9b0d-a82e24e4e425",
   "metadata": {},
   "outputs": [],
   "source": [
    "c22 = diff.updateMask(landforms.eq(22)).selfMask()"
   ]
  },
  {
   "cell_type": "code",
   "execution_count": null,
   "id": "9df277f0-5fb1-45de-9c44-09f9ee02ba85",
   "metadata": {},
   "outputs": [],
   "source": [
    "Map.addLayer(c22, {}, 'C22')"
   ]
  },
  {
   "cell_type": "code",
   "execution_count": null,
   "id": "9facffee-d0ec-4eb3-8522-708e38c9cfdc",
   "metadata": {},
   "outputs": [],
   "source": [
    "from geemap.datasets import DATA"
   ]
  },
  {
   "cell_type": "code",
   "execution_count": null,
   "id": "772d519c-89c0-4f08-ac39-0d043b1e96cf",
   "metadata": {},
   "outputs": [],
   "source": [
    "DATA.users_giswqs_public_us_states"
   ]
  },
  {
   "cell_type": "code",
   "execution_count": null,
   "id": "b504df65-3c24-49a4-957a-2788c3237dbe",
   "metadata": {},
   "outputs": [],
   "source": [
    "fc = ee.FeatureCollection('users/giswqs/public/countries')"
   ]
  },
  {
   "cell_type": "code",
   "execution_count": null,
   "id": "343a5389-157f-419e-9696-04f6fe570e9e",
   "metadata": {},
   "outputs": [],
   "source": [
    "# geemap.zonal_stats(c22, fc, 'stats_mean.csv', statistics_type='MEAN')"
   ]
  },
  {
   "cell_type": "code",
   "execution_count": null,
   "id": "8e23f5d6-646b-47f1-a170-239a21f0076f",
   "metadata": {},
   "outputs": [],
   "source": [
    "geom = landforms.geometry().bounds()"
   ]
  },
  {
   "cell_type": "code",
   "execution_count": null,
   "id": "b9da8a44-9c1d-4820-bf2a-646ec4f2e022",
   "metadata": {},
   "outputs": [],
   "source": [
    "# values = landforms.reduceRegions(**{\n",
    "#     'reducer': ee.Reducer.frequencyHistogram(),\n",
    "#     'collection': ee.FeatureCollection([ee.Feature(geom)]),\n",
    "#     'scale': 1000\n",
    "# })"
   ]
  },
  {
   "cell_type": "code",
   "execution_count": null,
   "id": "4428d612-4a09-4228-887d-3d3ea95f8deb",
   "metadata": {},
   "outputs": [],
   "source": [
    "# values.getInfo()"
   ]
  },
  {
   "cell_type": "code",
   "execution_count": null,
   "id": "2adc0d25-7ddb-4cae-ac6d-ecd6d4f73582",
   "metadata": {},
   "outputs": [],
   "source": [
    "values = geemap.image_value_list(landforms, region=geom, return_hist=False)"
   ]
  },
  {
   "cell_type": "code",
   "execution_count": null,
   "id": "5e7608ff-6f86-4bb2-9d75-e5007918ff10",
   "metadata": {},
   "outputs": [],
   "source": [
    "values.getInfo()"
   ]
  },
  {
   "cell_type": "code",
   "execution_count": null,
   "id": "287416ae-b546-4cbf-b25a-e8c491ba3aa2",
   "metadata": {},
   "outputs": [],
   "source": [
    "result = geemap.image_stats_by_zone(diff, landforms, reducer='mean')\n",
    "result"
   ]
  },
  {
   "cell_type": "code",
   "execution_count": null,
   "id": "358a8a05-3605-4f76-bc9d-579f4b035ae4",
   "metadata": {},
   "outputs": [],
   "source": [
    "geemap.image_stats_by_zone(diff, nlcd, reducer='maximum')"
   ]
  },
  {
   "cell_type": "code",
   "execution_count": null,
   "id": "7ed0d009-9d1a-4007-b101-c9580183b4e4",
   "metadata": {},
   "outputs": [],
   "source": [
    "result.aggregate_array('zone').getInfo()"
   ]
  },
  {
   "cell_type": "code",
   "execution_count": null,
   "id": "73310f0c-6002-4461-a8c7-5d736e0abdc0",
   "metadata": {},
   "outputs": [],
   "source": [
    "result.aggregate_array('elevation').getInfo()"
   ]
  },
  {
   "cell_type": "code",
   "execution_count": null,
   "id": "07386ff8-c307-45c9-b10b-9359d1368bcd",
   "metadata": {},
   "outputs": [],
   "source": [
    "result.toDictionary(['elevation']).getInfo()"
   ]
  },
  {
   "cell_type": "code",
   "execution_count": null,
   "id": "33683e8a-9122-410c-9b4e-725951902c9c",
   "metadata": {},
   "outputs": [],
   "source": [
    "isinstance(ee.Reducer.histogram(), ee.Reducer)"
   ]
  },
  {
   "cell_type": "code",
   "execution_count": null,
   "id": "89960eef-2fb9-42d4-9593-e4fbeace7f6b",
   "metadata": {},
   "outputs": [],
   "source": [
    "geom.getInfo()"
   ]
  },
  {
   "cell_type": "code",
   "execution_count": null,
   "id": "f3067b5b-25fd-4cde-8da0-16f6c62a6950",
   "metadata": {},
   "outputs": [],
   "source": [
    "result = c22.reduceRegion(\n",
    "    **{'reducer': ee.Reducer.mean(), 'scale': 1000, 'geometry': Map.user_roi}\n",
    ")"
   ]
  },
  {
   "cell_type": "code",
   "execution_count": null,
   "id": "0b437f5c-39b3-46ac-b54a-1f8469834d26",
   "metadata": {},
   "outputs": [],
   "source": [
    "result.getInfo()"
   ]
  },
  {
   "cell_type": "code",
   "execution_count": null,
   "id": "2bb72b74-b915-4ab5-9e7b-a09759dda036",
   "metadata": {},
   "outputs": [],
   "source": [
    "ee.Image().set(result).set({'class': 22}).getInfo()"
   ]
  },
  {
   "cell_type": "code",
   "execution_count": null,
   "id": "265d6e87-f87c-4a01-81cd-07ede00411a4",
   "metadata": {},
   "outputs": [],
   "source": []
  }
 ],
 "metadata": {
  "kernelspec": {
   "display_name": "Python 3",
   "language": "python",
   "name": "python3"
  },
  "language_info": {
   "codemirror_mode": {
    "name": "ipython",
    "version": 3
   },
   "file_extension": ".py",
   "mimetype": "text/x-python",
   "name": "python",
   "nbconvert_exporter": "python",
   "pygments_lexer": "ipython3",
   "version": "3.9.10"
  }
 },
 "nbformat": 4,
 "nbformat_minor": 5
}
