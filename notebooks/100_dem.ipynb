{
 "cells": [
  {
   "cell_type": "markdown",
   "metadata": {},
   "source": [
    "<a href=\"https://githubtocolab.com/giswqs/geemap/blob/master/examples/notebooks/100_dem.ipynb\" target=\"_parent\"><img src=\"https://colab.research.google.com/assets/colab-badge.svg\" alt=\"Open in Colab\"/></a>\n",
    "\n",
    "Uncomment the following line to install [geemap](https://geemap.org) if needed."
   ]
  },
  {
   "cell_type": "code",
   "execution_count": null,
   "metadata": {},
   "outputs": [],
   "source": [
    "# !pip install geemap"
   ]
  },
  {
   "cell_type": "markdown",
   "metadata": {},
   "source": [
    "Import libraries."
   ]
  },
  {
   "cell_type": "code",
   "execution_count": null,
   "metadata": {},
   "outputs": [],
   "source": [
    "import ee\n",
    "import geemap\n",
    "import geemap.colormaps as cm"
   ]
  },
  {
   "cell_type": "markdown",
   "metadata": {},
   "source": [
    "Create an interactive map."
   ]
  },
  {
   "cell_type": "code",
   "execution_count": null,
   "metadata": {},
   "outputs": [],
   "source": [
    "Map = geemap.Map()"
   ]
  },
  {
   "cell_type": "code",
   "execution_count": null,
   "metadata": {},
   "outputs": [],
   "source": [
    "srtm = ee.Image(\"CGIAR/SRTM90_V4\")\n",
    "nasa_strm = ee.Image('USGS/SRTMGL1_003').select('elevation')\n",
    "nasa = ee.Image('NASA/NASADEM_HGT/001').select('elevation')\n",
    "gmted = ee.Image('USGS/GMTED2010').select('be75').rename('elevation')\n",
    "alos = (\n",
    "    ee.ImageCollection(\"JAXA/ALOS/AW3D30/V3_2\")\n",
    "    .mosaic()\n",
    "    .select('DSM')\n",
    "    .rename('elevation')\n",
    ")\n",
    "glo30 = (\n",
    "    ee.ImageCollection(\"projects/sat-io/open-datasets/GLO-30\")\n",
    "    .mosaic()\n",
    "    .rename('elevation')\n",
    ")\n",
    "fabdem = (\n",
    "    ee.ImageCollection(\"projects/sat-io/open-datasets/FABDEM\")\n",
    "    .mosaic()\n",
    "    .rename('elevation')\n",
    ")\n",
    "ned = ee.Image('USGS/3DEP/10m')"
   ]
  },
  {
   "cell_type": "code",
   "execution_count": null,
   "metadata": {},
   "outputs": [],
   "source": [
    "vis_params = {'min': 0, 'max': 3000, 'palette': cm.palettes.dem}"
   ]
  },
  {
   "cell_type": "code",
   "execution_count": null,
   "metadata": {},
   "outputs": [],
   "source": [
    "Map.addLayer(srtm, vis_params, 'SRTM')\n",
    "Map.addLayer(nasa_strm, vis_params, 'NASA SRTM')\n",
    "Map.addLayer(nasa, vis_params, 'NASA DEM')\n",
    "Map.addLayer(gmted, vis_params, 'GMTED')\n",
    "Map.addLayer(alos, vis_params, 'ALOS')\n",
    "Map.addLayer(glo30, vis_params, 'GLO30')\n",
    "Map.addLayer(fabdem, vis_params, 'FABDEM')\n",
    "Map.addLayer(ned, vis_params, 'NED')"
   ]
  },
  {
   "cell_type": "code",
   "execution_count": null,
   "metadata": {},
   "outputs": [],
   "source": [
    "Map"
   ]
  },
  {
   "cell_type": "code",
   "execution_count": null,
   "metadata": {},
   "outputs": [],
   "source": [
    "hillshade = ee.Terrain.hillshade(ned.multiply(1), 135, 35).divide(255)"
   ]
  },
  {
   "cell_type": "code",
   "execution_count": null,
   "metadata": {},
   "outputs": [],
   "source": [
    "dataset = ned.multiply(hillshade)"
   ]
  },
  {
   "cell_type": "code",
   "execution_count": null,
   "metadata": {},
   "outputs": [],
   "source": [
    "Map.addLayer(dataset, vis_params, 'ShadedRelief')"
   ]
  },
  {
   "cell_type": "code",
   "execution_count": null,
   "metadata": {},
   "outputs": [],
   "source": [
    "Map.addLayer(hillshade, {}, 'Hillshade')"
   ]
  }
 ],
 "metadata": {
  "anaconda-cloud": {},
  "kernelspec": {
   "display_name": "Python 3",
   "language": "python",
   "name": "python3"
  },
  "language_info": {
   "codemirror_mode": {
    "name": "ipython",
    "version": 3
   },
   "file_extension": ".py",
   "mimetype": "text/x-python",
   "name": "python",
   "nbconvert_exporter": "python",
   "pygments_lexer": "ipython3",
   "version": "3.9.9"
  }
 },
 "nbformat": 4,
 "nbformat_minor": 4
}
